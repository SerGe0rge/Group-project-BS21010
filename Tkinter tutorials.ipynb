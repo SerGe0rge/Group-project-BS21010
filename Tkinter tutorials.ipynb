{
 "cells": [
  {
   "cell_type": "code",
   "execution_count": null,
   "metadata": {},
   "outputs": [],
   "source": [
    "#I watched some videos from codemy.com on youtube if you all want more info on these"
   ]
  },
  {
   "cell_type": "code",
   "execution_count": null,
   "metadata": {},
   "outputs": [],
   "source": [
    "from tkinter import * #imports the whole of tkinter package so you can do what you want\n",
    "# In tkinter everything is a widget even down to the window so try think of everything as a widget\n",
    "\n",
    "root = Tk() #this is the start of every Tkinter programme \n",
    "#Creating things in Tkinter is a two step process. You first have to create an object and then display it on the screen\n",
    "myLabel = Label(root, text = \"This is the way\") #first step, creating an object\n",
    "myLabel.pack() #second step, shoving it onto the screen pack( is useful but doesnt give you much control)\n",
    "\n",
    "root.mainloop() #main loop of the programme\n"
   ]
  },
  {
   "cell_type": "code",
   "execution_count": null,
   "metadata": {},
   "outputs": [],
   "source": [
    "#Grid system, series of columns and rows start as 0\n",
    "from tkinter import *\n",
    "\n",
    "#Think of your window as a grid\n",
    "root = Tk()\n",
    "\n",
    "myLabel1 = Label(root, text = \"This is the way\")\n",
    "myLabel2 = Label(root, text = \"May The Force Be With You\")\n",
    "\n",
    "myLabel1.grid(row=0, column=0) #.grid() used instead of .pack() to specify where on the screen the object shows up\n",
    "myLabel2.grid(row=1, column=1) #positions are relative to one another \n",
    "\n",
    "#2 steps can be merged like so myLabel1 = Label(root, text = \"This is the way\").grid(row=0, column=0)\n",
    "root.mainloop()"
   ]
  },
  {
   "cell_type": "code",
   "execution_count": null,
   "metadata": {},
   "outputs": [],
   "source": [
    "#Creating buttons\n",
    "from tkinter import *\n",
    "root = Tk()\n",
    "\n",
    "def myClick(): #create a function to make the button do something\n",
    "    myLabel1 = Label(root, text = \"This is the way\")\n",
    "    myLabel1.pack()\n",
    "    \n",
    "myButton = Button(root, text= \"Click me!\", command=myClick) #command calls for the button to perform a function when it is clicked\n",
    "#myButton = Button(root, text= \"Click me!\", padx=50, pady=50) #buttons are just another widget so treat them like one\n",
    "#state can be used if you want to enable or disable buttons, use state=DISABLED or nothing\n",
    "#padx and pady change size of button , might not use it but there you go\n",
    "\n",
    "myButton.pack()\n",
    "\n",
    "root.mainloop()"
   ]
  },
  {
   "cell_type": "code",
   "execution_count": null,
   "metadata": {},
   "outputs": [],
   "source": [
    "#Creating input fields\n",
    "from tkinter import *\n",
    "root = Tk()\n",
    "\n",
    "e = Entry(root, width=50) #creates textbox, width changes its size, https://www.tutorialspoint.com/python/tk_entry.htm\n",
    "e.pack() #shows textbox on screen\n",
    "#e.get() #grabs whatever the user types into the textbox\n",
    "#e.insert(0, \"Enter your name: \") puts a default thing into the textbox\n",
    "\n",
    "def myClick(): #create a function to make the button do something\n",
    "    hello = \"Hello \" + e.get()\n",
    "    myLabel1 = Label(root, text =hello)\n",
    "    myLabel1.pack()\n",
    "\n",
    "\n",
    "myButton = Button(root, text= \"Enter Your Name\", command=myClick)\n",
    "myButton.pack()\n",
    "\n",
    "\n",
    "root.mainloop()"
   ]
  },
  {
   "cell_type": "code",
   "execution_count": null,
   "metadata": {},
   "outputs": [],
   "source": [
    "#Adding images and exit buttons\n",
    "from tkinter import *\n",
    "from PIL import ImageTk, Image\n",
    "root = Tk()\n",
    "root.title(\"I love this module\") #creates title for the window\n",
    "\n",
    "my_img = ImageTk.PhotoImage(Image.open(\"enter file name here\") #inputs image into directory using Pillow\n",
    "my_label = Label(image=my_img) #creates object of the image\n",
    "my_label.pack() #shows object of the image onto the screen\n",
    "\n",
    "\n",
    "button_quit = Button(root, text=\"Exit\", command = root.quit) #creates button that when pressed quits the programme\n",
    "button_quit.pack()\n",
    "root.mainloop()"
   ]
  },
  {
   "cell_type": "code",
   "execution_count": 5,
   "metadata": {},
   "outputs": [],
   "source": [
    "#adding frames to your programme, used to keep things organised\n",
    "from tkinter import *\n",
    "root = Tk()\n",
    "root.title(\"I love this module\")\n",
    "#normally you cant have pack and grid in the same programme but with a frame you can\n",
    "frame = LabelFrame(root, text=\"This is my frame\", padx= 50, pady= 50) #dont have to include text\n",
    "frame.pack(padx=10, pady=10)\n",
    "\n",
    "b = Button(frame, text=\"Dont do that!\")\n",
    "b.grid(row=0, column=1)\n",
    "\n",
    "root.mainloop()"
   ]
  },
  {
   "cell_type": "code",
   "execution_count": 12,
   "metadata": {},
   "outputs": [],
   "source": [
    "#Using message boxes\n",
    "from tkinter import *\n",
    "from tkinter import messagebox\n",
    "root = Tk()\n",
    "root.title(\"I love this module\")\n",
    "\n",
    "def popup():\n",
    "    response = messagebox.askquestion(\"This is my popup\", \"Hello\") #first parameter is title of textbox, second is the text within it\n",
    "    #Label(root, text=response).pack()\n",
    "    if response == \"yes\":\n",
    "        Label(root, text=\"You're the best\").pack()\n",
    "    else:\n",
    "        Label(root, text=\"You're not the best\").pack()\n",
    "    \n",
    "#https://docs.python.org/3.9/library/tkinter.messagebox.html all the types of message boxes in this link\n",
    "\n",
    "Button(root, text=\"Popup\", command=popup).pack()\n",
    "\n",
    "root.mainloop()"
   ]
  },
  {
   "cell_type": "code",
   "execution_count": 22,
   "metadata": {},
   "outputs": [],
   "source": [
    "#Create new windows\n",
    "from tkinter import *\n",
    "root = Tk()\n",
    "def open(): #use a function here to make the second window appear when you want to\n",
    "    global lbl #enables variables to be used in all windows\n",
    "    top = Toplevel() #creates new window\n",
    "    top.title(\"Second window\") #add title to the second window\n",
    "    lbl = Label(top, text=\"Hello World\").pack()\n",
    "\n",
    "btn= Button(root, text=\"Open second window\", command=open).pack()\n",
    "\n",
    "root.mainloop()"
   ]
  },
  {
   "cell_type": "code",
   "execution_count": 30,
   "metadata": {},
   "outputs": [],
   "source": [
    "#Dropdown menus\n",
    "from tkinter import *\n",
    "root = Tk()\n",
    "\n",
    "def show():\n",
    "    myLabel = Label(root, text=var.get()).pack()\n",
    "\n",
    "\n",
    "options = [\"Monday\", \"Tuesday\"]\n",
    "var = StringVar() #used to recognise the strings Monday Tuesday etc.\n",
    "var.set(\"Monday\") #sets default menu option \n",
    "drop = OptionMenu(root, var, *options) #creates dropdown menu in main window\n",
    "drop.pack()\n",
    "\n",
    "myButton= Button(root, text=\"Show Selection\", command=show).pack()\n",
    "\n",
    "\n",
    "\n",
    "root.mainloop()\n"
   ]
  },
  {
   "cell_type": "code",
   "execution_count": 2,
   "metadata": {},
   "outputs": [],
   "source": [
    "#Graphs and charts using Matplotlib\n",
    "from tkinter import *\n",
    "import numpy as np\n",
    "import matplotlib.pyplot as plt\n",
    "root = Tk()\n",
    "root.geometry(\"400x200\") #creates empty canvas with specified dimensions\n",
    "\n",
    "def graph():\n",
    "    house_prices = np.random.normal(200000, 25000, 5000) #.normal is normal distribution\n",
    "    plt.hist(house_prices, 50) #creates a histogram, we can use this for charts or anything else with the right codeword\n",
    "    plt.show()\n",
    "\n",
    "button= Button(root, text=\"Graph\", command=graph)\n",
    "button.pack()\n",
    "\n",
    "#https://matplotlib.org/ to see more\n",
    "\n",
    "root.mainloop()"
   ]
  }
 ],
 "metadata": {
  "kernelspec": {
   "display_name": "Python 3",
   "language": "python",
   "name": "python3"
  },
  "language_info": {
   "codemirror_mode": {
    "name": "ipython",
    "version": 3
   },
   "file_extension": ".py",
   "mimetype": "text/x-python",
   "name": "python",
   "nbconvert_exporter": "python",
   "pygments_lexer": "ipython3",
   "version": "3.8.5"
  }
 },
 "nbformat": 4,
 "nbformat_minor": 4
}
